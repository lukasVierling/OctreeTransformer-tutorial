{
 "cells": [
  {
   "cell_type": "code",
   "execution_count": 4,
   "metadata": {},
   "outputs": [],
   "source": [
    "import sys\n",
    "sys.path.append('../')\n",
    "\n",
    "import numpy as np\n",
    "from scipy.io import loadmat\n",
    "import os\n",
    "import itertools\n",
    "\n",
    "from utils.load_hsp import load_hsp"
   ]
  },
  {
   "cell_type": "code",
   "execution_count": 5,
   "metadata": {},
   "outputs": [],
   "source": [
    "path = '../data' \n",
    "resolution = 64"
   ]
  },
  {
   "attachments": {},
   "cell_type": "markdown",
   "metadata": {},
   "source": [
    "# Create Voxels for the matlab objects\n",
    "This notebook was used for the creation of voxelized data. It is not relevant for the tutorial."
   ]
  },
  {
   "cell_type": "code",
   "execution_count": 6,
   "metadata": {},
   "outputs": [],
   "source": [
    "#Loop over all the files in the direcory\n",
    "for i,filename in enumerate(os.listdir(path)):\n",
    "    #check if the file is a matlab filter\n",
    "    if filename.endswith(\".mat\"):\n",
    "        #load the file\n",
    "        grid = load_hsp(os.path.join(path, filename),resolution)\n",
    "        #save the file\n",
    "        np.save(os.path.join(path, f'voxelized_plane_{i+1}'), grid)"
   ]
  }
 ],
 "metadata": {
  "kernelspec": {
   "display_name": "Python 3",
   "language": "python",
   "name": "python3"
  },
  "language_info": {
   "codemirror_mode": {
    "name": "ipython",
    "version": 3
   },
   "file_extension": ".py",
   "mimetype": "text/x-python",
   "name": "python",
   "nbconvert_exporter": "python",
   "pygments_lexer": "ipython3",
   "version": "3.9.16"
  },
  "orig_nbformat": 4
 },
 "nbformat": 4,
 "nbformat_minor": 2
}
