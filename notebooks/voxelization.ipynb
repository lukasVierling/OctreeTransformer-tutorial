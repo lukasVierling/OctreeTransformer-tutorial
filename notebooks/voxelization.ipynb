{
 "cells": [
  {
   "cell_type": "code",
   "execution_count": 4,
   "metadata": {},
   "outputs": [],
   "source": [
    "import sys\n",
    "sys.path.append('../')\n",
    "\n",
    "import numpy as np\n",
    "from scipy.io import loadmat\n",
    "import os\n",
    "import itertools\n",
    "\n",
    "from utils.load_hsp import load_hsp"
   ]
  },
  {
   "cell_type": "code",
   "execution_count": 5,
   "metadata": {},
   "outputs": [
    {
     "data": {
      "text/plain": [
       "array([[1, 1, 1],\n",
       "       [1, 1, 2],\n",
       "       [1, 2, 1],\n",
       "       [1, 2, 2],\n",
       "       [2, 1, 1],\n",
       "       [2, 1, 2],\n",
       "       [2, 2, 1],\n",
       "       [2, 2, 2]])"
      ]
     },
     "execution_count": 5,
     "metadata": {},
     "output_type": "execute_result"
    }
   ],
   "source": [
    "np.array(list(itertools.product([1, 2], repeat=3)))"
   ]
  },
  {
   "cell_type": "code",
   "execution_count": 14,
   "metadata": {},
   "outputs": [],
   "source": [
    "array = np.array([1,2,3,4,5,6,7,8,9,10])\n",
    "#creeate array with 3 dimensions\n",
    "value = np.array([[[1,2,3],[4,5,6]],[[7,8,9],[10,11,12]]])"
   ]
  },
  {
   "cell_type": "code",
   "execution_count": 22,
   "metadata": {},
   "outputs": [
    {
     "name": "stdout",
     "output_type": "stream",
     "text": [
      "(2, 2, 3)\n",
      "(2, 1, 3)\n",
      "[[[ True False False]]\n",
      "\n",
      " [[False False False]]]\n"
     ]
    }
   ],
   "source": [
    "\n",
    "def padding_mask(value):\n",
    "        \"\"\"\n",
    "        Create a mask to handle padding values.\n",
    "\n",
    "        Args:\n",
    "            value (torch.Tensor): Input tensor containing value indices.\n",
    "                Shape: (batch_size, sequence_length)\n",
    "\n",
    "        Returns:\n",
    "            torch.Tensor: Mask tensor for padding values.\n",
    "        \"\"\"\n",
    "        return value == 1\n",
    "chunk_size = 5\n",
    "print(value.shape)\n",
    "mask = padding_mask(value[:, ::chunk_size])\n",
    "print(mask.shape)\n",
    "print(mask)"
   ]
  },
  {
   "attachments": {},
   "cell_type": "markdown",
   "metadata": {},
   "source": [
    "# Create Voxels for the matlab objects"
   ]
  },
  {
   "cell_type": "code",
   "execution_count": 5,
   "metadata": {},
   "outputs": [],
   "source": [
    "path = '../data' \n",
    "resolution = 64"
   ]
  },
  {
   "attachments": {},
   "cell_type": "markdown",
   "metadata": {},
   "source": [
    "# Create Voxels for the matlab objects"
   ]
  },
  {
   "cell_type": "code",
   "execution_count": 6,
   "metadata": {},
   "outputs": [],
   "source": [
    "#Loop over all the files in the direcory\n",
    "for i,filename in enumerate(os.listdir(path)):\n",
    "    #check if the file is a matlab filter\n",
    "    if filename.endswith(\".mat\"):\n",
    "        #load the file\n",
    "        grid = load_hsp(os.path.join(path, filename),resolution)\n",
    "        #save the file\n",
    "        np.save(os.path.join(path, f'voxelized_plane_{i+1}'), grid)"
   ]
  }
 ],
 "metadata": {
  "kernelspec": {
   "display_name": "Python 3",
   "language": "python",
   "name": "python3"
  },
  "language_info": {
   "codemirror_mode": {
    "name": "ipython",
    "version": 3
   },
   "file_extension": ".py",
   "mimetype": "text/x-python",
   "name": "python",
   "nbconvert_exporter": "python",
   "pygments_lexer": "ipython3",
   "version": "3.9.16"
  },
  "orig_nbformat": 4
 },
 "nbformat": 4,
 "nbformat_minor": 2
}
